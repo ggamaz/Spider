{
 "cells": [
  {
   "cell_type": "code",
   "execution_count": null,
   "metadata": {},
   "outputs": [],
   "source": [
    "# coding=utf-8\n",
    "\n",
    "import requests\n",
    "from lxml import etree\n",
    "\n",
    "url = 'https://www.spiderbuf.cn/playground/s07'\n",
    "\n",
    "myheaders = {'User-Agent':'Mozilla/5.0 (Windows NT 10.0; Win64; x64) AppleWebKit/537.36 (KHTML, like Gecko) Chrome/91.0.4472.164 Safari/537.36'}\n",
    "\n",
    "payload = {'level':'7'}\n",
    "html = requests.post(url, headers=myheaders, data=payload).text\n",
    "print(html)\n",
    "\n",
    "f = open('./data/7/07.html', 'w', encoding='utf-8')\n",
    "f.write(html)\n",
    "f.close()\n",
    "\n",
    "root = etree.HTML(html)\n",
    "trs = root.xpath('//tr')\n",
    "\n",
    "f = open('./data/7/data07.txt', 'w', encoding='utf-8')\n",
    "for tr in trs:\n",
    "    tds = tr.xpath('./td')\n",
    "    s = ''\n",
    "    for td in tds:\n",
    "        # print(td.text)\n",
    "        s = s + str(td.text) + '|'\n",
    "    print(s)\n",
    "    if s != '':\n",
    "        f.write(s + '\\n')\n",
    "\n",
    "f.close()\n"
   ]
  },
  {
   "cell_type": "code",
   "execution_count": null,
   "metadata": {},
   "outputs": [],
   "source": [
    "# coding=utf-8\n",
    "\n",
    "import requests\n",
    "import json\n",
    "\n",
    "url = 'http://spiderbuf.cn/iplist?order=asc'\n",
    "\n",
    "myheaders = {'User-Agent':'Mozilla/5.0 (Windows NT 10.0; Win64; x64) AppleWebKit/537.36 (KHTML, like Gecko) Chrome/91.0.4472.164 Safari/537.36'}\n",
    "\n",
    "data_json = requests.get(url, headers=myheaders).text\n",
    "print(data_json)\n",
    "\n",
    "f = open('./data/7/07.html', 'w', encoding='utf-8')\n",
    "f.write(data_json)\n",
    "f.close()\n",
    "if(data_json):\n",
    "    ls = json.loads(data_json)\n",
    "    print(ls)\n",
    "\n",
    "    f = open('./data/7/data07.txt', 'w', encoding='utf-8')\n",
    "    for item in ls:\n",
    "        # print(item)\n",
    "        s = '%s|%s|%s|%s|%s|%s|%s\\n' % (item['ip'], item['mac'],item['manufacturer'], item['name'],item['ports'], item['status'], item['type'])\n",
    "        f.write(s)\n",
    "    f.close()"
   ]
  },
  {
   "cell_type": "code",
   "execution_count": 4,
   "metadata": {},
   "outputs": [],
   "source": [
    "import requests\n",
    "import json\n",
    "from bs4 import BeautifulSoup\n",
    "# 定义BBC News中文的URL\n",
    "url = \"https://www.bbc.com/zhongwen/simp/topics/c9mjeq29pxlt\"\n",
    "\n",
    "headers = {\n",
    "    'User-Agent': 'Mozilla/5.0 (Windows NT 10.0; Win64; x64) AppleWebKit/537.36 (KHTML, like Gecko) Chrome/91.0.4472.164 Safari/537.36'\n",
    "}\n",
    "# # 发送请求获取页面内容\n",
    "response = requests.get(url, headers=headers).text\n",
    "# response.encoding = 'utf-8'  # 确保正确的编码\n",
    "\n",
    "f = open('./data/tech.html', 'w', encoding='utf-8')\n",
    "f.write(response)\n",
    "f.close()\n",
    "\n",
    "# 使用BeautifulSoup解析HTML\n",
    "# data_json = BeautifulSoup(response.text, 'html.parser').text\n"
   ]
  }
 ],
 "metadata": {
  "kernelspec": {
   "display_name": "Python 3",
   "language": "python",
   "name": "python3"
  },
  "language_info": {
   "codemirror_mode": {
    "name": "ipython",
    "version": 3
   },
   "file_extension": ".py",
   "mimetype": "text/x-python",
   "name": "python",
   "nbconvert_exporter": "python",
   "pygments_lexer": "ipython3",
   "version": "3.10.12"
  }
 },
 "nbformat": 4,
 "nbformat_minor": 2
}
